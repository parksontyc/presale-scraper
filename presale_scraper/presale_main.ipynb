{
 "cells": [
  {
   "cell_type": "code",
   "execution_count": null,
   "metadata": {},
   "outputs": [],
   "source": [
    "import os\n",
    "import re\n",
    "import time\n",
    "import datetime\n",
    "from tqdm import tqdm \n",
    "import pandas as pd\n",
    "import requests"
   ]
  },
  {
   "cell_type": "code",
   "execution_count": null,
   "metadata": {},
   "outputs": [],
   "source": [
    "import sys\n",
    "from pathlib import Path\n",
    "project_root = Path.cwd()  # 找出根目錄：Path.cwd()找出現在所在目錄(/run).parent(上一層是notebook).parent(再上層一層business_district_discovery)\n",
    "print(project_root)\n",
    "sys.path.append(str(project_root))\n",
    "\n",
    "from config import urls_1140412, column_names\n",
    "from utils import fetch_data, combined_df, parse_admin_region, parse_sale_period, find_first_sale_time, sales_start_time"
   ]
  },
  {
   "cell_type": "code",
   "execution_count": null,
   "metadata": {},
   "outputs": [],
   "source": [
    "import_name = 'urls_1140412'\n",
    "input_time = import_name.split('_')[1]  # 提取 \"1140412\" 部分\n",
    "\n",
    "df = combined_df(urls_1140412, input_time)"
   ]
  },
  {
   "cell_type": "code",
   "execution_count": null,
   "metadata": {},
   "outputs": [],
   "source": [
    "if not os.path.exists('../data'):\n",
    "    os.makedirs('../data')\n",
    "    \n",
    "# 使用今天的日期作為檔名的一部分\n",
    "today = datetime.datetime.now().strftime('%Y%m%d')\n",
    "df.to_csv(f'../data/presale_rawdata_{today}.csv', index=False, encoding='utf-8-sig')\n",
    "df.to_pickle(f'../data/presale_rawdata_{today}.pkl')"
   ]
  },
  {
   "cell_type": "code",
   "execution_count": null,
   "metadata": {},
   "outputs": [],
   "source": [
    "df = pd.read_pickle('../data/presale_rawdata_20250417.pkl')"
   ]
  },
  {
   "cell_type": "code",
   "execution_count": null,
   "metadata": {},
   "outputs": [],
   "source": [
    "df = df.rename(columns=column_names, inplace=False)"
   ]
  },
  {
   "cell_type": "code",
   "execution_count": null,
   "metadata": {},
   "outputs": [],
   "source": [
    "proc_df = df.copy()\n",
    "# 在 proc_df 裡面新增一個「行政區」欄位\n",
    "proc_df[\"行政區\"] = proc_df[\"坐落街道\"].apply(parse_admin_region)\n",
    "proc_df[\"自售期間\"], proc_df[\"代銷期間\"] = zip(*proc_df[\"銷售期間\"].apply(parse_sale_period))\n",
    "\n",
    "# 依規則從「自售期間」及「代銷期間」欄位提取出7位數字，\n",
    "# 分別存入新欄位「自售起始時間」與「代銷起始時間」\n",
    "proc_df[\"自售起始時間\"] = proc_df[\"自售期間\"].apply(find_first_sale_time)\n",
    "proc_df[\"代銷起始時間\"] = proc_df[\"代銷期間\"].apply(find_first_sale_time)\n",
    "\n",
    "# 建立「銷售起始時間」欄位\n",
    "proc_df[\"銷售起始時間\"] = proc_df.apply(sales_start_time, axis=1)"
   ]
  },
  {
   "cell_type": "code",
   "execution_count": null,
   "metadata": {},
   "outputs": [],
   "source": [
    "final_df = proc_df[[\"縣市\", \"行政區\", \"起造人\", \"社區名稱\", \"戶數\", \"銷售起始時間\", \"銷售期間\",  \n",
    "\"編號\", \"自售起始時間\", \"代銷起始時間\", \"備查完成日期\", \"建照核發日\", \"坐落街道\", \"主要用途\", \"使用分區\", \"建照執照\", \"經度\", \"緯度\"]]\n",
    "final_df"
   ]
  },
  {
   "cell_type": "code",
   "execution_count": null,
   "metadata": {},
   "outputs": [],
   "source": [
    "today = datetime.datetime.now().strftime('%Y%m%d')\n",
    "final_df.to_pickle(f'../data/presale_output_{today}.pkl')"
   ]
  }
 ],
 "metadata": {
  "kernelspec": {
   "display_name": "presale-scraper",
   "language": "python",
   "name": "python3"
  },
  "language_info": {
   "codemirror_mode": {
    "name": "ipython",
    "version": 3
   },
   "file_extension": ".py",
   "mimetype": "text/x-python",
   "name": "python",
   "nbconvert_exporter": "python",
   "pygments_lexer": "ipython3",
   "version": "3.11.12"
  }
 },
 "nbformat": 4,
 "nbformat_minor": 2
}
