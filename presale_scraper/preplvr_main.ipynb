{
 "cells": [
  {
   "cell_type": "code",
   "execution_count": null,
   "id": "c458fe23",
   "metadata": {},
   "outputs": [],
   "source": [
    "import os\n",
    "import re\n",
    "import time\n",
    "import datetime\n",
    "from tqdm import tqdm \n",
    "import pandas as pd\n",
    "import requests"
   ]
  },
  {
   "cell_type": "code",
   "execution_count": null,
   "id": "984bd307",
   "metadata": {},
   "outputs": [],
   "source": [
    "import sys\n",
    "from pathlib import Path\n",
    "project_root = Path.cwd()  # 找出根目錄：Path.cwd()找出現在所在目錄(/run).parent(上一層是notebook).parent(再上層一層business_district_discovery)\n",
    "print(project_root)\n",
    "sys.path.append(str(project_root))\n",
    "\n",
    "from config import plvrurls_1140416, plvr_column_names\n",
    "from utils import combined_df, parse_admin_region"
   ]
  },
  {
   "cell_type": "code",
   "execution_count": null,
   "id": "49f210f3",
   "metadata": {},
   "outputs": [],
   "source": [
    "import_name = 'plvrurls_1140416'\n",
    "input_time = import_name.split('_')[1]  # 提取 \"1140416\" 部分\n",
    "\n",
    "df = combined_df(plvrurls_1140416, input_time)"
   ]
  },
  {
   "cell_type": "code",
   "execution_count": null,
   "id": "fff34a1f",
   "metadata": {},
   "outputs": [],
   "source": [
    "if not os.path.exists('../data'):\n",
    "    os.makedirs('../data')\n",
    "    \n",
    "# 使用今天的日期作為檔名的一部分\n",
    "today = datetime.datetime.now().strftime('%Y%m%d')\n",
    "df.to_csv(f'../data/plvr_rawdata_{today}.csv', index=False, encoding='utf-8-sig')\n",
    "df.to_pickle(f'../data/plvr_rawdata_{today}.pkl')"
   ]
  },
  {
   "cell_type": "code",
   "execution_count": null,
   "id": "c97cb16b",
   "metadata": {},
   "outputs": [],
   "source": [
    "# df = pd.read_csv('../data/plvr_rawdata_20250417.csv', encoding='utf-8-sig', dtype={'AA12': 'str', 'cp': 'str', 's': 'str'})\n",
    "df = pd.read_pickle('../data/plvr_rawdata_20250417.pkl')"
   ]
  },
  {
   "cell_type": "code",
   "execution_count": null,
   "id": "860427b2",
   "metadata": {},
   "outputs": [],
   "source": [
    "df = df.rename(columns=plvr_column_names, inplace=False)"
   ]
  },
  {
   "cell_type": "code",
   "execution_count": null,
   "id": "21595925",
   "metadata": {},
   "outputs": [],
   "source": [
    "proc_df = df.copy()\n",
    "proc_df = proc_df[[\"縣市\", \"坐落街道\", \"建物型態\", \"社區名稱\", \"棟號\", \"交易日期\", \"總面積\", \"交易總價\",  \n",
    "\"建物單價\", \"樓層\", \"解約情形\", \"備查編號\", \"備註\", \"主要用途\",  \"車位總價\", \"車位筆數\",  \"經度\", \"緯度\"]]"
   ]
  },
  {
   "cell_type": "code",
   "execution_count": null,
   "id": "9a220718",
   "metadata": {},
   "outputs": [],
   "source": [
    "# 在 proc_df 裡面新增一個「行政區」欄位\n",
    "proc_df[\"行政區\"] = proc_df[\"坐落街道\"].apply(parse_admin_region)\n",
    "# 新增「交易年月」欄位\n",
    "proc_df['交易年月'] = proc_df['交易日期'].str.replace(r'(\\d+)/(\\d+)/\\d+', r'\\1\\2', regex=True)\n",
    "\n",
    "# 「交易總價」及「交易單價」由字串轉為數值\n",
    "proc_df['交易總價'] = pd.to_numeric(proc_df['交易總價'].str.replace(',', ''), errors='coerce')\n",
    "proc_df['交易總價'] = (proc_df['交易總價'] / 10000).round(0).astype(int)\n",
    "\n",
    "proc_df"
   ]
  },
  {
   "cell_type": "code",
   "execution_count": null,
   "id": "32d1a182",
   "metadata": {},
   "outputs": [],
   "source": [
    "proc_df['建物單價'] = pd.to_numeric(proc_df['建物單價'].str.replace(',', ''), errors='coerce')\n",
    "proc_df['建物單價'] = (proc_df['建物單價'] / 10000).round(1).fillna(0).astype(float)\n",
    "proc_df"
   ]
  },
  {
   "cell_type": "code",
   "execution_count": null,
   "id": "59dfe0d4",
   "metadata": {},
   "outputs": [],
   "source": [
    "final_df = proc_df[[\"縣市\", \"行政區\", \"坐落街道\", \"建物型態\", \"社區名稱\", \"棟號\", \"交易日期\", \"總面積\", \"交易總價\",  \n",
    "\"建物單價\", \"樓層\", \"解約情形\", \"備查編號\", \"備註\", \"主要用途\",  \"車位總價\", \"車位筆數\",  \"經度\", \"緯度\"]]\n",
    "final_df.to_pickle('../data/plvr_output_20250417.pkl')"
   ]
  }
 ],
 "metadata": {
  "kernelspec": {
   "display_name": "presale-scraper",
   "language": "python",
   "name": "python3"
  },
  "language_info": {
   "codemirror_mode": {
    "name": "ipython",
    "version": 3
   },
   "file_extension": ".py",
   "mimetype": "text/x-python",
   "name": "python",
   "nbconvert_exporter": "python",
   "pygments_lexer": "ipython3",
   "version": "3.11.12"
  }
 },
 "nbformat": 4,
 "nbformat_minor": 5
}
