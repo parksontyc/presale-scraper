{
 "cells": [
  {
   "cell_type": "code",
   "execution_count": null,
   "id": "f9c30660",
   "metadata": {},
   "outputs": [],
   "source": [
    "import time\n",
    "import datetime\n",
    "import random\n",
    "import pandas as pd\n",
    "from tqdm import tqdm "
   ]
  },
  {
   "cell_type": "code",
   "execution_count": null,
   "id": "5febb4cf",
   "metadata": {},
   "outputs": [],
   "source": [
    "import sys\n",
    "from pathlib import Path\n",
    "project_root = Path.cwd()  # 找出根目錄：Path.cwd()找出現在所在目錄(/run).parent(上一層是notebook).parent(再上層一層business_district_discovery)\n",
    "print(project_root)\n",
    "sys.path.append(str(project_root))\n",
    "\n",
    "from newhouse591_spider import Newhouse591Spider\n",
    "from config import regionid"
   ]
  },
  {
   "cell_type": "code",
   "execution_count": null,
   "id": "c1d4e824",
   "metadata": {},
   "outputs": [],
   "source": [
    "plvr_df = pd.read_pickle('../data/plvr_output_20250417.pkl')\n",
    "presale_df = pd.read_pickle('../data/presale_output_20250417.pkl')"
   ]
  },
  {
   "cell_type": "code",
   "execution_count": null,
   "id": "d5884f90",
   "metadata": {},
   "outputs": [],
   "source": [
    "plvr_df"
   ]
  },
  {
   "cell_type": "code",
   "execution_count": null,
   "id": "323835f2",
   "metadata": {},
   "outputs": [],
   "source": [
    "presale_df"
   ]
  },
  {
   "cell_type": "code",
   "execution_count": null,
   "id": "9e88734f",
   "metadata": {},
   "outputs": [],
   "source": [
    "proc_df = pd.merge(\n",
    "    plvr_df,\n",
    "    presale_df[['縣市', '行政區', '社區名稱', '戶數', '銷售起始時間', '編號', '使用分區', '起造人', '建照執照']],\n",
    "    on=['縣市', '行政區', '社區名稱'],\n",
    "    how='left'\n",
    ")"
   ]
  },
  {
   "cell_type": "code",
   "execution_count": null,
   "id": "c064a58c",
   "metadata": {},
   "outputs": [],
   "source": [
    "proc_df"
   ]
  },
  {
   "cell_type": "code",
   "execution_count": null,
   "id": "9af8dc0a",
   "metadata": {},
   "outputs": [],
   "source": [
    "\n",
    "unique_communities = proc_df[proc_df['建照執照'].isna()].drop_duplicates(\n",
    "    subset=['縣市', '行政區', '社區名稱']\n",
    ")[['縣市', '社區名稱']].reset_index(drop=True)\n",
    "\n",
    "\n",
    "unique_communities['縣市'] = unique_communities['縣市'].replace(regionid)\n",
    "# unique_communities"
   ]
  },
  {
   "cell_type": "code",
   "execution_count": null,
   "id": "dc5c161e",
   "metadata": {},
   "outputs": [],
   "source": [
    "search_list = unique_communities.to_dict('records')\n",
    "len(search_list)"
   ]
  },
  {
   "cell_type": "code",
   "execution_count": null,
   "id": "e73a825c",
   "metadata": {},
   "outputs": [],
   "source": [
    "newhouse591_spider = Newhouse591Spider()"
   ]
  },
  {
   "cell_type": "code",
   "execution_count": null,
   "id": "845d24e5",
   "metadata": {},
   "outputs": [],
   "source": [
    "all_results = []\n",
    "all_details = []\n",
    "# 優化: 使用 tqdm 顯示進度條\n",
    "for i, community in enumerate(tqdm(search_list[20:100], desc=\"搜尋進度\")):\n",
    "    try:\n",
    "        # 優化: 直接取出字典中的值，而不是使用索引作為city_id\n",
    "        filter_params = {\n",
    "            'keyword': community['社區名稱'],  # 取出社區名稱\n",
    "            'regionid': community['縣市'],     # 取出縣市代碼\n",
    "        }\n",
    "        \n",
    "        # 搜尋建案\n",
    "        print(f\"正在搜尋: 第 {i} 個:{community['社區名稱']} (縣市代碼: {community['縣市']})\")\n",
    "        total_count, houses = newhouse591_spider.search(filter_params, {}, want_page=1)\n",
    "        print(f\"搜尋結果建案總數: {total_count}\")\n",
    "        \n",
    "        # 優化: 確認是否有搜尋結果\n",
    "        if houses and len(houses) > 0:\n",
    "            # 取得建案詳情\n",
    "            try:\n",
    "                house_detail, main_df = newhouse591_spider.get_newhouse_detail(houses[0]['hid'])\n",
    "                \n",
    "                # 添加搜尋信息到DataFrame\n",
    "                main_df['搜尋關鍵字'] = community['社區名稱']\n",
    "                main_df['縣市代碼'] = community['縣市']\n",
    "                \n",
    "                # 儲存結果\n",
    "                all_results.append(houses[0])\n",
    "                all_details.append(main_df)\n",
    "                \n",
    "                print(f\"已獲取 {houses[0].get('build_name', '未知')} 的詳細資料\")\n",
    "            except Exception as e:\n",
    "                print(f\"獲取詳細資料時發生錯誤: {e}\")\n",
    "        else:\n",
    "            print(f\"未找到與 {community['社區名稱']} 相關的建案\")\n",
    "    \n",
    "    except Exception as e:\n",
    "        print(f\"搜尋時發生錯誤: {e}\")\n",
    "    \n",
    "    # 添加延遲避免被封IP\n",
    "    delay_time = random.uniform(3, 8)\n",
    "    print(f\"等待 {delay_time:.1f} 秒...\")\n",
    "    time.sleep(delay_time)"
   ]
  },
  {
   "cell_type": "code",
   "execution_count": null,
   "id": "6fce4e45",
   "metadata": {},
   "outputs": [],
   "source": [
    "combined_df = pd.concat(all_details, ignore_index=True)\n",
    "combined_df"
   ]
  },
  {
   "cell_type": "code",
   "execution_count": null,
   "id": "adebd885",
   "metadata": {},
   "outputs": [],
   "source": [
    "today = datetime.datetime.now().strftime('%Y%m%d')\n",
    "combined_df.to_csv(f'../data/output_591/combinde_df_20_100.csv', index=False, encoding='utf-8-sig')\n",
    "combined_df.to_pickle(f'../data/output_591/combinde_df_20_100.pkl')"
   ]
  },
  {
   "cell_type": "code",
   "execution_count": null,
   "id": "b52f7244",
   "metadata": {},
   "outputs": [],
   "source": [
    "\n",
    "filter_params = {\n",
    "    # 關鍵字\n",
    "    'keyword': '世界明珠',  # %E6%B0%B4%E6%BC%BE\n",
    "    \n",
    "    # 按地區\n",
    "    'regionid': '1',  # (縣市) \n",
    "    # 'sectionid': '10',  # (地區) 台北 > 內湖區\n",
    "    # 'shop_id': '164',  # (生活圈) 台北 > 內湖區 > 內湖科技園區\n",
    "    \n",
    "    # 按捷運 (有 regionid=1 參數，但應該沒影響)\n",
    "    # 'search_type': '1',\n",
    "    # 'city': '1',  # (捷運) 台北捷運\n",
    "    # 'subway_line': '2',  # (路線) 台北捷運 > 淡水信義線\n",
    "    # 'subway_id': '4198',  # (站點) 台北捷運 > 淡水信義線 > 新北投\n",
    "    \n",
    "    # 'unit_price': '1,2',  # (單價) 50萬/坪以下+50-70萬/坪\n",
    "    # 'total_price': '3',  # (總價) 2000-3000萬\n",
    "    # 'room': '4',  # (格局) 四房\n",
    "    # 'shape': '3',  # (型態) 住宅大樓\n",
    "    # 'build_type': '1',  # (狀態) 預售屋\n",
    "    # 'purpose': '1',  # (用途) 住家用\n",
    "    # 'tag': '1,4,5,10',  # (特色) 近捷運+重劃區+近公園+制震宅\n",
    "}\n",
    "sort_param = {\n",
    "    # 'sort': '1',  # 金額排序從小到大\n",
    "    # 'sort': '5',  # 瀏覽人數從多到少\n",
    "}"
   ]
  },
  {
   "cell_type": "code",
   "execution_count": null,
   "id": "d6e5feeb",
   "metadata": {},
   "outputs": [],
   "source": [
    "total_count, houses = newhouse591_spider.search(filter_params, sort_param, want_page=1)\n",
    "print('搜尋結果建案總數：', total_count)\n",
    "# with open('./newhouse591_search.json', 'w', encoding='utf-8') as f:\n",
    "#     f.write(json.dumps(houses, ensure_ascii=False, indent=4))\n",
    "#     print(\"新建案搜尋結果 已儲存至 ./newhouse591_search.json\")\n",
    "\n",
    "# time.sleep(random.uniform(2, 5))  # 隨機 delay 一段時間\n",
    "house_detail, main_df = newhouse591_spider.get_newhouse_detail(houses[0]['hid'])\n",
    "# house_detail = newhouse591_spider.get_newhouse_detail('135743')  # 120137\n",
    "print(house_detail)\n",
    "# with open('./newhouse591_detail.json', 'w', encoding='utf-8') as f:\n",
    "#     f.write(json.dumps(house_detail, ensure_ascii=False, indent=4))\n",
    "#     print(\"建案詳情 已儲存至 ./newhouse591_detail.json\")"
   ]
  },
  {
   "cell_type": "code",
   "execution_count": null,
   "id": "2b211e77",
   "metadata": {},
   "outputs": [],
   "source": [
    "main_df"
   ]
  },
  {
   "cell_type": "code",
   "execution_count": null,
   "id": "14223473",
   "metadata": {},
   "outputs": [],
   "source": [
    "unique_communities = proc_df[proc_df['備查編號']==\"\"]['社區名稱'].value_counts()\n",
    "sorted_communities = unique_communities.sort_values(ascending=False)\n",
    "print(\"缺失銷售起始時間的社區統計（從高到低）：\")\n",
    "for name, count in sorted_communities.items():\n",
    "    print(f\"{name}: {count}筆\")"
   ]
  },
  {
   "cell_type": "code",
   "execution_count": null,
   "id": "1c5a78b6",
   "metadata": {},
   "outputs": [],
   "source": [
    "# python# 創建一個包含更新資料的DataFrame\n",
    "# update_data = pd.DataFrame([\n",
    "#     {'縣市': '臺北市', '行政區': '中正區', '社區名稱': '中正城閱', '銷售起始時間': '1120315'},\n",
    "#     # 可以加入更多需要更新的記錄...\n",
    "# ])\n",
    "\n",
    "# # 使用merge進行更新\n",
    "# # 先把原始DataFrame和更新DataFrame合併\n",
    "# temp_df = pd.merge(\n",
    "#     merged_df,\n",
    "#     update_data,\n",
    "#     on=['縣市', '行政區', '社區名稱'],\n",
    "#     how='left',\n",
    "#     suffixes=('', '_update')\n",
    "# )\n",
    "\n",
    "# # 然後用更新值替換原始值（如果存在的話）\n",
    "# mask = ~temp_df['銷售起始時間_update'].isna()\n",
    "# temp_df.loc[mask, '銷售起始時間'] = temp_df.loc[mask, '銷售起始時間_update']\n",
    "\n",
    "# # 刪除多餘的列並更新原始DataFrame\n",
    "# merged_df = temp_df.drop(columns=['銷售起始時間_update'])"
   ]
  }
 ],
 "metadata": {
  "kernelspec": {
   "display_name": "presale-scraper",
   "language": "python",
   "name": "python3"
  },
  "language_info": {
   "codemirror_mode": {
    "name": "ipython",
    "version": 3
   },
   "file_extension": ".py",
   "mimetype": "text/x-python",
   "name": "python",
   "nbconvert_exporter": "python",
   "pygments_lexer": "ipython3",
   "version": "3.11.12"
  }
 },
 "nbformat": 4,
 "nbformat_minor": 5
}
